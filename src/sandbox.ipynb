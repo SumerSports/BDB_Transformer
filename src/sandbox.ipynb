{
 "cells": [
  {
   "cell_type": "code",
   "execution_count": 1,
   "metadata": {},
   "outputs": [],
   "source": [
    "import os\n",
    "\n",
    "# change dir to workspace dir\n",
    "os.chdir(\"../\")"
   ]
  },
  {
   "cell_type": "code",
   "execution_count": 24,
   "metadata": {},
   "outputs": [
    {
     "name": "stdout",
     "output_type": "stream",
     "text": [
      "unique_games: 136\n",
      "unique_plays: 1871\n",
      "unique_frames: 80062\n",
      "unique_frames_mirrored: 160124\n"
     ]
    },
    {
     "data": {
      "text/html": [
       "<div><style>\n",
       ".dataframe > thead > tr,\n",
       ".dataframe > tbody > tr {\n",
       "  text-align: right;\n",
       "  white-space: pre-wrap;\n",
       "}\n",
       "</style>\n",
       "<small>shape: (2, 33)</small><table border=\"1\" class=\"dataframe\"><thead><tr><th>gameId</th><th>playId</th><th>nflId</th><th>displayName</th><th>frameId</th><th>time</th><th>jerseyNumber</th><th>club</th><th>x</th><th>y</th><th>s</th><th>a</th><th>dis</th><th>o</th><th>dir</th><th>event</th><th>down</th><th>yardsToGo</th><th>distanceToGoal</th><th>playResult</th><th>weight_Z</th><th>height_Z</th><th>is_ball_carrier</th><th>side</th><th>vx</th><th>vy</th><th>ox</th><th>oy</th><th>mirrored</th><th>play_origin_x</th><th>play_origin_y</th><th>x_rel</th><th>y_rel</th></tr><tr><td>i64</td><td>i64</td><td>i64</td><td>str</td><td>i64</td><td>str</td><td>i64</td><td>str</td><td>f64</td><td>f64</td><td>f64</td><td>f64</td><td>f64</td><td>f64</td><td>f64</td><td>str</td><td>i64</td><td>i64</td><td>i64</td><td>i64</td><td>f64</td><td>f64</td><td>i64</td><td>i32</td><td>f64</td><td>f64</td><td>f64</td><td>f64</td><td>bool</td><td>f64</td><td>f64</td><td>f64</td><td>f64</td></tr></thead><tbody><tr><td>2022102305</td><td>430</td><td>45033</td><td>&quot;Ifeadi Odenigbo&quot;</td><td>38</td><td>&quot;2022-10-23 13:19:31.599999&quot;</td><td>59</td><td>&quot;IND&quot;</td><td>82.76</td><td>22.69</td><td>5.58</td><td>1.93</td><td>0.58</td><td>98.32</td><td>122.14</td><td>null</td><td>1</td><td>10</td><td>28</td><td>1</td><td>0.260524</td><td>0.28187</td><td>0</td><td>-1</td><td>2.968503</td><td>-4.724869</td><td>0.144702</td><td>-0.989475</td><td>false</td><td>76.61</td><td>31.99</td><td>6.15</td><td>-9.3</td></tr><tr><td>2022092503</td><td>1482</td><td>47796</td><td>&quot;Christian Wilkins&quot;</td><td>6</td><td>&quot;2022-09-25 14:05:57.900000&quot;</td><td>94</td><td>&quot;MIA&quot;</td><td>36.78</td><td>30.17</td><td>3.75</td><td>0.42</td><td>0.39</td><td>105.1</td><td>121.56</td><td>&quot;pass_outcome_caught&quot;</td><td>1</td><td>10</td><td>75</td><td>8</td><td>1.470219</td><td>0.659568</td><td>0</td><td>-1</td><td>1.962717</td><td>-3.195347</td><td>0.260505</td><td>-0.965473</td><td>false</td><td>39.95</td><td>2.85</td><td>-3.17</td><td>27.32</td></tr></tbody></table></div>"
      ],
      "text/plain": [
       "shape: (2, 33)\n",
       "┌─────┬─────┬─────┬─────┬─────┬─────┬─────┬─────┬─────┬─────┬─────┬─────┬─────┬─────┬─────┬─────┬─────┬─────┬─────┬─────┬─────┬─────┬─────┬─────┬─────┬─────┬─────┬─────┬─────┬─────┬─────┬─────┬─────┐\n",
       "│ gam ┆ pla ┆ nfl ┆ dis ┆ fra ┆ tim ┆ jer ┆ clu ┆ x   ┆ y   ┆ s   ┆ a   ┆ dis ┆ o   ┆ dir ┆ eve ┆ dow ┆ yar ┆ dis ┆ pla ┆ wei ┆ hei ┆ is_ ┆ sid ┆ vx  ┆ vy  ┆ ox  ┆ oy  ┆ mir ┆ pla ┆ pla ┆ x_r ┆ y_r │\n",
       "│ eId ┆ yId ┆ Id  ┆ pla ┆ meI ┆ e   ┆ sey ┆ b   ┆ --- ┆ --- ┆ --- ┆ --- ┆ --- ┆ --- ┆ --- ┆ nt  ┆ n   ┆ dsT ┆ tan ┆ yRe ┆ ght ┆ ght ┆ bal ┆ e   ┆ --- ┆ --- ┆ --- ┆ --- ┆ ror ┆ y_o ┆ y_o ┆ el  ┆ el  │\n",
       "│ --- ┆ --- ┆ --- ┆ yNa ┆ d   ┆ --- ┆ Num ┆ --- ┆ f64 ┆ f64 ┆ f64 ┆ f64 ┆ f64 ┆ f64 ┆ f64 ┆ --- ┆ --- ┆ oGo ┆ ceT ┆ sul ┆ _Z  ┆ _Z  ┆ l_c ┆ --- ┆ f64 ┆ f64 ┆ f64 ┆ f64 ┆ ed  ┆ rig ┆ rig ┆ --- ┆ --- │\n",
       "│ i64 ┆ i64 ┆ i64 ┆ me  ┆ --- ┆ str ┆ ber ┆ str ┆     ┆     ┆     ┆     ┆     ┆     ┆     ┆ str ┆ i64 ┆ --- ┆ oGo ┆ t   ┆ --- ┆ --- ┆ arr ┆ i32 ┆     ┆     ┆     ┆     ┆ --- ┆ in_ ┆ in_ ┆ f64 ┆ f64 │\n",
       "│     ┆     ┆     ┆ --- ┆ i64 ┆     ┆ --- ┆     ┆     ┆     ┆     ┆     ┆     ┆     ┆     ┆     ┆     ┆ i64 ┆ al  ┆ --- ┆ f64 ┆ f64 ┆ ier ┆     ┆     ┆     ┆     ┆     ┆ boo ┆ x   ┆ y   ┆     ┆     │\n",
       "│     ┆     ┆     ┆ str ┆     ┆     ┆ i64 ┆     ┆     ┆     ┆     ┆     ┆     ┆     ┆     ┆     ┆     ┆     ┆ --- ┆ i64 ┆     ┆     ┆ --- ┆     ┆     ┆     ┆     ┆     ┆ l   ┆ --- ┆ --- ┆     ┆     │\n",
       "│     ┆     ┆     ┆     ┆     ┆     ┆     ┆     ┆     ┆     ┆     ┆     ┆     ┆     ┆     ┆     ┆     ┆     ┆ i64 ┆     ┆     ┆     ┆ i64 ┆     ┆     ┆     ┆     ┆     ┆     ┆ f64 ┆ f64 ┆     ┆     │\n",
       "╞═════╪═════╪═════╪═════╪═════╪═════╪═════╪═════╪═════╪═════╪═════╪═════╪═════╪═════╪═════╪═════╪═════╪═════╪═════╪═════╪═════╪═════╪═════╪═════╪═════╪═════╪═════╪═════╪═════╪═════╪═════╪═════╪═════╡\n",
       "│ 202 ┆ 430 ┆ 450 ┆ Ife ┆ 38  ┆ 202 ┆ 59  ┆ IND ┆ 82. ┆ 22. ┆ 5.5 ┆ 1.9 ┆ 0.5 ┆ 98. ┆ 122 ┆ nul ┆ 1   ┆ 10  ┆ 28  ┆ 1   ┆ 0.2 ┆ 0.2 ┆ 0   ┆ -1  ┆ 2.9 ┆ -4. ┆ 0.1 ┆ -0. ┆ fal ┆ 76. ┆ 31. ┆ 6.1 ┆ -9. │\n",
       "│ 210 ┆     ┆ 33  ┆ adi ┆     ┆ 2-1 ┆     ┆     ┆ 76  ┆ 69  ┆ 8   ┆ 3   ┆ 8   ┆ 32  ┆ .14 ┆ l   ┆     ┆     ┆     ┆     ┆ 605 ┆ 818 ┆     ┆     ┆ 685 ┆ 724 ┆ 447 ┆ 989 ┆ se  ┆ 61  ┆ 99  ┆ 5   ┆ 3   │\n",
       "│ 230 ┆     ┆     ┆ Ode ┆     ┆ 0-2 ┆     ┆     ┆     ┆     ┆     ┆     ┆     ┆     ┆     ┆     ┆     ┆     ┆     ┆     ┆ 24  ┆ 7   ┆     ┆     ┆ 03  ┆ 869 ┆ 02  ┆ 475 ┆     ┆     ┆     ┆     ┆     │\n",
       "│ 5   ┆     ┆     ┆ nig ┆     ┆ 3   ┆     ┆     ┆     ┆     ┆     ┆     ┆     ┆     ┆     ┆     ┆     ┆     ┆     ┆     ┆     ┆     ┆     ┆     ┆     ┆     ┆     ┆     ┆     ┆     ┆     ┆     ┆     │\n",
       "│     ┆     ┆     ┆ bo  ┆     ┆ 13: ┆     ┆     ┆     ┆     ┆     ┆     ┆     ┆     ┆     ┆     ┆     ┆     ┆     ┆     ┆     ┆     ┆     ┆     ┆     ┆     ┆     ┆     ┆     ┆     ┆     ┆     ┆     │\n",
       "│     ┆     ┆     ┆     ┆     ┆ 19: ┆     ┆     ┆     ┆     ┆     ┆     ┆     ┆     ┆     ┆     ┆     ┆     ┆     ┆     ┆     ┆     ┆     ┆     ┆     ┆     ┆     ┆     ┆     ┆     ┆     ┆     ┆     │\n",
       "│     ┆     ┆     ┆     ┆     ┆ 31. ┆     ┆     ┆     ┆     ┆     ┆     ┆     ┆     ┆     ┆     ┆     ┆     ┆     ┆     ┆     ┆     ┆     ┆     ┆     ┆     ┆     ┆     ┆     ┆     ┆     ┆     ┆     │\n",
       "│     ┆     ┆     ┆     ┆     ┆ 599 ┆     ┆     ┆     ┆     ┆     ┆     ┆     ┆     ┆     ┆     ┆     ┆     ┆     ┆     ┆     ┆     ┆     ┆     ┆     ┆     ┆     ┆     ┆     ┆     ┆     ┆     ┆     │\n",
       "│     ┆     ┆     ┆     ┆     ┆ 999 ┆     ┆     ┆     ┆     ┆     ┆     ┆     ┆     ┆     ┆     ┆     ┆     ┆     ┆     ┆     ┆     ┆     ┆     ┆     ┆     ┆     ┆     ┆     ┆     ┆     ┆     ┆     │\n",
       "│ 202 ┆ 148 ┆ 477 ┆ Chr ┆ 6   ┆ 202 ┆ 94  ┆ MIA ┆ 36. ┆ 30. ┆ 3.7 ┆ 0.4 ┆ 0.3 ┆ 105 ┆ 121 ┆ pas ┆ 1   ┆ 10  ┆ 75  ┆ 8   ┆ 1.4 ┆ 0.6 ┆ 0   ┆ -1  ┆ 1.9 ┆ -3. ┆ 0.2 ┆ -0. ┆ fal ┆ 39. ┆ 2.8 ┆ -3. ┆ 27. │\n",
       "│ 209 ┆ 2   ┆ 96  ┆ ist ┆     ┆ 2-0 ┆     ┆     ┆ 78  ┆ 17  ┆ 5   ┆ 2   ┆ 9   ┆ .1  ┆ .56 ┆ s_o ┆     ┆     ┆     ┆     ┆ 702 ┆ 595 ┆     ┆     ┆ 627 ┆ 195 ┆ 605 ┆ 965 ┆ se  ┆ 95  ┆ 5   ┆ 17  ┆ 32  │\n",
       "│ 250 ┆     ┆     ┆ ian ┆     ┆ 9-2 ┆     ┆     ┆     ┆     ┆     ┆     ┆     ┆     ┆     ┆ utc ┆     ┆     ┆     ┆     ┆ 19  ┆ 68  ┆     ┆     ┆ 17  ┆ 347 ┆ 05  ┆ 473 ┆     ┆     ┆     ┆     ┆     │\n",
       "│ 3   ┆     ┆     ┆ Wil ┆     ┆ 5   ┆     ┆     ┆     ┆     ┆     ┆     ┆     ┆     ┆     ┆ ome ┆     ┆     ┆     ┆     ┆     ┆     ┆     ┆     ┆     ┆     ┆     ┆     ┆     ┆     ┆     ┆     ┆     │\n",
       "│     ┆     ┆     ┆ kin ┆     ┆ 14: ┆     ┆     ┆     ┆     ┆     ┆     ┆     ┆     ┆     ┆ _ca ┆     ┆     ┆     ┆     ┆     ┆     ┆     ┆     ┆     ┆     ┆     ┆     ┆     ┆     ┆     ┆     ┆     │\n",
       "│     ┆     ┆     ┆ s   ┆     ┆ 05: ┆     ┆     ┆     ┆     ┆     ┆     ┆     ┆     ┆     ┆ ugh ┆     ┆     ┆     ┆     ┆     ┆     ┆     ┆     ┆     ┆     ┆     ┆     ┆     ┆     ┆     ┆     ┆     │\n",
       "│     ┆     ┆     ┆     ┆     ┆ 57. ┆     ┆     ┆     ┆     ┆     ┆     ┆     ┆     ┆     ┆ t   ┆     ┆     ┆     ┆     ┆     ┆     ┆     ┆     ┆     ┆     ┆     ┆     ┆     ┆     ┆     ┆     ┆     │\n",
       "│     ┆     ┆     ┆     ┆     ┆ 900 ┆     ┆     ┆     ┆     ┆     ┆     ┆     ┆     ┆     ┆     ┆     ┆     ┆     ┆     ┆     ┆     ┆     ┆     ┆     ┆     ┆     ┆     ┆     ┆     ┆     ┆     ┆     │\n",
       "│     ┆     ┆     ┆     ┆     ┆ 000 ┆     ┆     ┆     ┆     ┆     ┆     ┆     ┆     ┆     ┆     ┆     ┆     ┆     ┆     ┆     ┆     ┆     ┆     ┆     ┆     ┆     ┆     ┆     ┆     ┆     ┆     ┆     │\n",
       "└─────┴─────┴─────┴─────┴─────┴─────┴─────┴─────┴─────┴─────┴─────┴─────┴─────┴─────┴─────┴─────┴─────┴─────┴─────┴─────┴─────┴─────┴─────┴─────┴─────┴─────┴─────┴─────┴─────┴─────┴─────┴─────┴─────┘"
      ]
     },
     "execution_count": 24,
     "metadata": {},
     "output_type": "execute_result"
    }
   ],
   "source": [
    "import polars as pl\n",
    "\n",
    "pl.Config.set_tbl_cols(-1)\n",
    "pl.Config.set_tbl_rows(30)\n",
    "\n",
    "df = pl.read_parquet(\"data/split_prepped_data/test_features.parquet\")\n",
    "print(\"unique_games:\", df.select([\"gameId\"]).n_unique())\n",
    "print(\"unique_plays:\", df.select([\"gameId\", \"playId\"]).n_unique())\n",
    "print(\"unique_frames:\", df.select([\"gameId\", \"playId\", \"frameId\"]).n_unique())\n",
    "print(\"unique_frames_mirrored:\", df.select([\"gameId\", \"playId\", \"frameId\", \"mirrored\"]).n_unique())\n",
    "df.sample(2)"
   ]
  },
  {
   "cell_type": "code",
   "execution_count": 25,
   "metadata": {},
   "outputs": [
    {
     "name": "stdout",
     "output_type": "stream",
     "text": [
      "unique_games: 136\n",
      "unique_plays: 8735\n",
      "unique_frames: 370295\n",
      "unique_frames_mirrored: 740590\n"
     ]
    },
    {
     "data": {
      "text/html": [
       "<div><style>\n",
       ".dataframe > thead > tr,\n",
       ".dataframe > tbody > tr {\n",
       "  text-align: right;\n",
       "  white-space: pre-wrap;\n",
       "}\n",
       "</style>\n",
       "<small>shape: (2, 33)</small><table border=\"1\" class=\"dataframe\"><thead><tr><th>gameId</th><th>playId</th><th>nflId</th><th>displayName</th><th>frameId</th><th>time</th><th>jerseyNumber</th><th>club</th><th>x</th><th>y</th><th>s</th><th>a</th><th>dis</th><th>o</th><th>dir</th><th>event</th><th>down</th><th>yardsToGo</th><th>distanceToGoal</th><th>playResult</th><th>weight_Z</th><th>height_Z</th><th>is_ball_carrier</th><th>side</th><th>vx</th><th>vy</th><th>ox</th><th>oy</th><th>mirrored</th><th>play_origin_x</th><th>play_origin_y</th><th>x_rel</th><th>y_rel</th></tr><tr><td>i64</td><td>i64</td><td>i64</td><td>str</td><td>i64</td><td>str</td><td>i64</td><td>str</td><td>f64</td><td>f64</td><td>f64</td><td>f64</td><td>f64</td><td>f64</td><td>f64</td><td>str</td><td>i64</td><td>i64</td><td>i64</td><td>i64</td><td>f64</td><td>f64</td><td>i64</td><td>i32</td><td>f64</td><td>f64</td><td>f64</td><td>f64</td><td>bool</td><td>f64</td><td>f64</td><td>f64</td><td>f64</td></tr></thead><tbody><tr><td>2022091805</td><td>2318</td><td>54579</td><td>&quot;Dane Belton&quot;</td><td>17</td><td>&quot;2022-09-18 14:56:15.299999&quot;</td><td>24</td><td>&quot;NYG&quot;</td><td>61.6</td><td>24.73</td><td>4.15</td><td>2.03</td><td>0.41</td><td>188.81</td><td>194.24</td><td>null</td><td>2</td><td>7</td><td>58</td><td>8</td><td>-0.864281</td><td>-0.473524</td><td>0</td><td>-1</td><td>-4.022487</td><td>-1.020834</td><td>-0.988202</td><td>-0.153158</td><td>false</td><td>44.24</td><td>29.5</td><td>17.36</td><td>-4.77</td></tr><tr><td>2022100204</td><td>3428</td><td>47809</td><td>&quot;Montez Sweat&quot;</td><td>33</td><td>&quot;2022-10-02 15:45:48.400000&quot;</td><td>90</td><td>&quot;WAS&quot;</td><td>60.79</td><td>32.65</td><td>2.46</td><td>2.59</td><td>0.26</td><td>271.86</td><td>304.2</td><td>null</td><td>3</td><td>3</td><td>50</td><td>0</td><td>0.345415</td><td>1.414962</td><td>0</td><td>-1</td><td>1.382725</td><td>-2.034618</td><td>0.032457</td><td>-0.999473</td><td>false</td><td>54.77</td><td>24.22</td><td>6.02</td><td>8.43</td></tr></tbody></table></div>"
      ],
      "text/plain": [
       "shape: (2, 33)\n",
       "┌─────┬─────┬─────┬─────┬─────┬─────┬─────┬─────┬─────┬─────┬─────┬─────┬─────┬─────┬─────┬─────┬─────┬─────┬─────┬─────┬─────┬─────┬─────┬─────┬─────┬─────┬─────┬─────┬─────┬─────┬─────┬─────┬─────┐\n",
       "│ gam ┆ pla ┆ nfl ┆ dis ┆ fra ┆ tim ┆ jer ┆ clu ┆ x   ┆ y   ┆ s   ┆ a   ┆ dis ┆ o   ┆ dir ┆ eve ┆ dow ┆ yar ┆ dis ┆ pla ┆ wei ┆ hei ┆ is_ ┆ sid ┆ vx  ┆ vy  ┆ ox  ┆ oy  ┆ mir ┆ pla ┆ pla ┆ x_r ┆ y_r │\n",
       "│ eId ┆ yId ┆ Id  ┆ pla ┆ meI ┆ e   ┆ sey ┆ b   ┆ --- ┆ --- ┆ --- ┆ --- ┆ --- ┆ --- ┆ --- ┆ nt  ┆ n   ┆ dsT ┆ tan ┆ yRe ┆ ght ┆ ght ┆ bal ┆ e   ┆ --- ┆ --- ┆ --- ┆ --- ┆ ror ┆ y_o ┆ y_o ┆ el  ┆ el  │\n",
       "│ --- ┆ --- ┆ --- ┆ yNa ┆ d   ┆ --- ┆ Num ┆ --- ┆ f64 ┆ f64 ┆ f64 ┆ f64 ┆ f64 ┆ f64 ┆ f64 ┆ --- ┆ --- ┆ oGo ┆ ceT ┆ sul ┆ _Z  ┆ _Z  ┆ l_c ┆ --- ┆ f64 ┆ f64 ┆ f64 ┆ f64 ┆ ed  ┆ rig ┆ rig ┆ --- ┆ --- │\n",
       "│ i64 ┆ i64 ┆ i64 ┆ me  ┆ --- ┆ str ┆ ber ┆ str ┆     ┆     ┆     ┆     ┆     ┆     ┆     ┆ str ┆ i64 ┆ --- ┆ oGo ┆ t   ┆ --- ┆ --- ┆ arr ┆ i32 ┆     ┆     ┆     ┆     ┆ --- ┆ in_ ┆ in_ ┆ f64 ┆ f64 │\n",
       "│     ┆     ┆     ┆ --- ┆ i64 ┆     ┆ --- ┆     ┆     ┆     ┆     ┆     ┆     ┆     ┆     ┆     ┆     ┆ i64 ┆ al  ┆ --- ┆ f64 ┆ f64 ┆ ier ┆     ┆     ┆     ┆     ┆     ┆ boo ┆ x   ┆ y   ┆     ┆     │\n",
       "│     ┆     ┆     ┆ str ┆     ┆     ┆ i64 ┆     ┆     ┆     ┆     ┆     ┆     ┆     ┆     ┆     ┆     ┆     ┆ --- ┆ i64 ┆     ┆     ┆ --- ┆     ┆     ┆     ┆     ┆     ┆ l   ┆ --- ┆ --- ┆     ┆     │\n",
       "│     ┆     ┆     ┆     ┆     ┆     ┆     ┆     ┆     ┆     ┆     ┆     ┆     ┆     ┆     ┆     ┆     ┆     ┆ i64 ┆     ┆     ┆     ┆ i64 ┆     ┆     ┆     ┆     ┆     ┆     ┆ f64 ┆ f64 ┆     ┆     │\n",
       "╞═════╪═════╪═════╪═════╪═════╪═════╪═════╪═════╪═════╪═════╪═════╪═════╪═════╪═════╪═════╪═════╪═════╪═════╪═════╪═════╪═════╪═════╪═════╪═════╪═════╪═════╪═════╪═════╪═════╪═════╪═════╪═════╪═════╡\n",
       "│ 202 ┆ 231 ┆ 545 ┆ Dan ┆ 17  ┆ 202 ┆ 24  ┆ NYG ┆ 61. ┆ 24. ┆ 4.1 ┆ 2.0 ┆ 0.4 ┆ 188 ┆ 194 ┆ nul ┆ 2   ┆ 7   ┆ 58  ┆ 8   ┆ -0. ┆ -0. ┆ 0   ┆ -1  ┆ -4. ┆ -1. ┆ -0. ┆ -0. ┆ fal ┆ 44. ┆ 29. ┆ 17. ┆ -4. │\n",
       "│ 209 ┆ 8   ┆ 79  ┆ e   ┆     ┆ 2-0 ┆     ┆     ┆ 6   ┆ 73  ┆ 5   ┆ 3   ┆ 1   ┆ .81 ┆ .24 ┆ l   ┆     ┆     ┆     ┆     ┆ 864 ┆ 473 ┆     ┆     ┆ 022 ┆ 020 ┆ 988 ┆ 153 ┆ se  ┆ 24  ┆ 5   ┆ 36  ┆ 77  │\n",
       "│ 180 ┆     ┆     ┆ Bel ┆     ┆ 9-1 ┆     ┆     ┆     ┆     ┆     ┆     ┆     ┆     ┆     ┆     ┆     ┆     ┆     ┆     ┆ 281 ┆ 524 ┆     ┆     ┆ 487 ┆ 834 ┆ 202 ┆ 158 ┆     ┆     ┆     ┆     ┆     │\n",
       "│ 5   ┆     ┆     ┆ ton ┆     ┆ 8   ┆     ┆     ┆     ┆     ┆     ┆     ┆     ┆     ┆     ┆     ┆     ┆     ┆     ┆     ┆     ┆     ┆     ┆     ┆     ┆     ┆     ┆     ┆     ┆     ┆     ┆     ┆     │\n",
       "│     ┆     ┆     ┆     ┆     ┆ 14: ┆     ┆     ┆     ┆     ┆     ┆     ┆     ┆     ┆     ┆     ┆     ┆     ┆     ┆     ┆     ┆     ┆     ┆     ┆     ┆     ┆     ┆     ┆     ┆     ┆     ┆     ┆     │\n",
       "│     ┆     ┆     ┆     ┆     ┆ 56: ┆     ┆     ┆     ┆     ┆     ┆     ┆     ┆     ┆     ┆     ┆     ┆     ┆     ┆     ┆     ┆     ┆     ┆     ┆     ┆     ┆     ┆     ┆     ┆     ┆     ┆     ┆     │\n",
       "│     ┆     ┆     ┆     ┆     ┆ 15. ┆     ┆     ┆     ┆     ┆     ┆     ┆     ┆     ┆     ┆     ┆     ┆     ┆     ┆     ┆     ┆     ┆     ┆     ┆     ┆     ┆     ┆     ┆     ┆     ┆     ┆     ┆     │\n",
       "│     ┆     ┆     ┆     ┆     ┆ 299 ┆     ┆     ┆     ┆     ┆     ┆     ┆     ┆     ┆     ┆     ┆     ┆     ┆     ┆     ┆     ┆     ┆     ┆     ┆     ┆     ┆     ┆     ┆     ┆     ┆     ┆     ┆     │\n",
       "│     ┆     ┆     ┆     ┆     ┆ 999 ┆     ┆     ┆     ┆     ┆     ┆     ┆     ┆     ┆     ┆     ┆     ┆     ┆     ┆     ┆     ┆     ┆     ┆     ┆     ┆     ┆     ┆     ┆     ┆     ┆     ┆     ┆     │\n",
       "│ 202 ┆ 342 ┆ 478 ┆ Mon ┆ 33  ┆ 202 ┆ 90  ┆ WAS ┆ 60. ┆ 32. ┆ 2.4 ┆ 2.5 ┆ 0.2 ┆ 271 ┆ 304 ┆ nul ┆ 3   ┆ 3   ┆ 50  ┆ 0   ┆ 0.3 ┆ 1.4 ┆ 0   ┆ -1  ┆ 1.3 ┆ -2. ┆ 0.0 ┆ -0. ┆ fal ┆ 54. ┆ 24. ┆ 6.0 ┆ 8.4 │\n",
       "│ 210 ┆ 8   ┆ 09  ┆ tez ┆     ┆ 2-1 ┆     ┆     ┆ 79  ┆ 65  ┆ 6   ┆ 9   ┆ 6   ┆ .86 ┆ .2  ┆ l   ┆     ┆     ┆     ┆     ┆ 454 ┆ 149 ┆     ┆     ┆ 827 ┆ 034 ┆ 324 ┆ 999 ┆ se  ┆ 77  ┆ 22  ┆ 2   ┆ 3   │\n",
       "│ 020 ┆     ┆     ┆ Swe ┆     ┆ 0-0 ┆     ┆     ┆     ┆     ┆     ┆     ┆     ┆     ┆     ┆     ┆     ┆     ┆     ┆     ┆ 15  ┆ 62  ┆     ┆     ┆ 25  ┆ 618 ┆ 57  ┆ 473 ┆     ┆     ┆     ┆     ┆     │\n",
       "│ 4   ┆     ┆     ┆ at  ┆     ┆ 2   ┆     ┆     ┆     ┆     ┆     ┆     ┆     ┆     ┆     ┆     ┆     ┆     ┆     ┆     ┆     ┆     ┆     ┆     ┆     ┆     ┆     ┆     ┆     ┆     ┆     ┆     ┆     │\n",
       "│     ┆     ┆     ┆     ┆     ┆ 15: ┆     ┆     ┆     ┆     ┆     ┆     ┆     ┆     ┆     ┆     ┆     ┆     ┆     ┆     ┆     ┆     ┆     ┆     ┆     ┆     ┆     ┆     ┆     ┆     ┆     ┆     ┆     │\n",
       "│     ┆     ┆     ┆     ┆     ┆ 45: ┆     ┆     ┆     ┆     ┆     ┆     ┆     ┆     ┆     ┆     ┆     ┆     ┆     ┆     ┆     ┆     ┆     ┆     ┆     ┆     ┆     ┆     ┆     ┆     ┆     ┆     ┆     │\n",
       "│     ┆     ┆     ┆     ┆     ┆ 48. ┆     ┆     ┆     ┆     ┆     ┆     ┆     ┆     ┆     ┆     ┆     ┆     ┆     ┆     ┆     ┆     ┆     ┆     ┆     ┆     ┆     ┆     ┆     ┆     ┆     ┆     ┆     │\n",
       "│     ┆     ┆     ┆     ┆     ┆ 400 ┆     ┆     ┆     ┆     ┆     ┆     ┆     ┆     ┆     ┆     ┆     ┆     ┆     ┆     ┆     ┆     ┆     ┆     ┆     ┆     ┆     ┆     ┆     ┆     ┆     ┆     ┆     │\n",
       "│     ┆     ┆     ┆     ┆     ┆ 000 ┆     ┆     ┆     ┆     ┆     ┆     ┆     ┆     ┆     ┆     ┆     ┆     ┆     ┆     ┆     ┆     ┆     ┆     ┆     ┆     ┆     ┆     ┆     ┆     ┆     ┆     ┆     │\n",
       "└─────┴─────┴─────┴─────┴─────┴─────┴─────┴─────┴─────┴─────┴─────┴─────┴─────┴─────┴─────┴─────┴─────┴─────┴─────┴─────┴─────┴─────┴─────┴─────┴─────┴─────┴─────┴─────┴─────┴─────┴─────┴─────┴─────┘"
      ]
     },
     "execution_count": 25,
     "metadata": {},
     "output_type": "execute_result"
    }
   ],
   "source": [
    "df = pl.read_parquet(\"data/split_prepped_data/train_features.parquet\")\n",
    "print(\"unique_games:\", df.select([\"gameId\"]).n_unique())\n",
    "print(\"unique_plays:\", df.select([\"gameId\", \"playId\"]).n_unique())\n",
    "print(\"unique_frames:\", df.select([\"gameId\", \"playId\", \"frameId\"]).n_unique())\n",
    "print(\"unique_frames_mirrored:\", df.select([\"gameId\", \"playId\", \"frameId\", \"mirrored\"]).n_unique())\n",
    "df.sample(2)"
   ]
  },
  {
   "cell_type": "code",
   "execution_count": 19,
   "metadata": {},
   "outputs": [
    {
     "name": "stdout",
     "output_type": "stream",
     "text": [
      "unique_games: 136\n",
      "unique_plays: 12486\n",
      "unique_frames: 530060\n",
      "(12187398, 17)\n"
     ]
    },
    {
     "data": {
      "text/html": [
       "<div><style>\n",
       ".dataframe > thead > tr,\n",
       ".dataframe > tbody > tr {\n",
       "  text-align: right;\n",
       "  white-space: pre-wrap;\n",
       "}\n",
       "</style>\n",
       "<small>shape: (2, 17)</small><table border=\"1\" class=\"dataframe\"><thead><tr><th>gameId</th><th>playId</th><th>nflId</th><th>displayName</th><th>frameId</th><th>time</th><th>jerseyNumber</th><th>club</th><th>playDirection</th><th>x</th><th>y</th><th>s</th><th>a</th><th>dis</th><th>o</th><th>dir</th><th>event</th></tr><tr><td>i64</td><td>i64</td><td>i64</td><td>str</td><td>i64</td><td>str</td><td>i64</td><td>str</td><td>str</td><td>f64</td><td>f64</td><td>f64</td><td>f64</td><td>f64</td><td>f64</td><td>f64</td><td>str</td></tr></thead><tbody><tr><td>2022110300</td><td>2056</td><td>46118</td><td>&quot;Dallas Goedert&quot;</td><td>33</td><td>&quot;2022-11-03 21:57:32.000000&quot;</td><td>88</td><td>&quot;PHI&quot;</td><td>&quot;right&quot;</td><td>40.89</td><td>25.83</td><td>2.71</td><td>1.94</td><td>0.28</td><td>126.23</td><td>44.76</td><td>null</td></tr><tr><td>2022102302</td><td>898</td><td>52441</td><td>&quot;Tee Higgins&quot;</td><td>16</td><td>&quot;2022-10-23 13:38:43.900000&quot;</td><td>85</td><td>&quot;CIN&quot;</td><td>&quot;left&quot;</td><td>62.58</td><td>4.39</td><td>1.04</td><td>0.19</td><td>0.11</td><td>279.16</td><td>286.39</td><td>null</td></tr></tbody></table></div>"
      ],
      "text/plain": [
       "shape: (2, 17)\n",
       "┌─────┬─────┬─────┬─────┬─────┬─────┬─────┬─────┬─────┬─────┬─────┬─────┬─────┬─────┬─────┬─────┬─────┐\n",
       "│ gam ┆ pla ┆ nfl ┆ dis ┆ fra ┆ tim ┆ jer ┆ clu ┆ pla ┆ x   ┆ y   ┆ s   ┆ a   ┆ dis ┆ o   ┆ dir ┆ eve │\n",
       "│ eId ┆ yId ┆ Id  ┆ pla ┆ meI ┆ e   ┆ sey ┆ b   ┆ yDi ┆ --- ┆ --- ┆ --- ┆ --- ┆ --- ┆ --- ┆ --- ┆ nt  │\n",
       "│ --- ┆ --- ┆ --- ┆ yNa ┆ d   ┆ --- ┆ Num ┆ --- ┆ rec ┆ f64 ┆ f64 ┆ f64 ┆ f64 ┆ f64 ┆ f64 ┆ f64 ┆ --- │\n",
       "│ i64 ┆ i64 ┆ i64 ┆ me  ┆ --- ┆ str ┆ ber ┆ str ┆ tio ┆     ┆     ┆     ┆     ┆     ┆     ┆     ┆ str │\n",
       "│     ┆     ┆     ┆ --- ┆ i64 ┆     ┆ --- ┆     ┆ n   ┆     ┆     ┆     ┆     ┆     ┆     ┆     ┆     │\n",
       "│     ┆     ┆     ┆ str ┆     ┆     ┆ i64 ┆     ┆ --- ┆     ┆     ┆     ┆     ┆     ┆     ┆     ┆     │\n",
       "│     ┆     ┆     ┆     ┆     ┆     ┆     ┆     ┆ str ┆     ┆     ┆     ┆     ┆     ┆     ┆     ┆     │\n",
       "╞═════╪═════╪═════╪═════╪═════╪═════╪═════╪═════╪═════╪═════╪═════╪═════╪═════╪═════╪═════╪═════╪═════╡\n",
       "│ 202 ┆ 205 ┆ 461 ┆ Dal ┆ 33  ┆ 202 ┆ 88  ┆ PHI ┆ rig ┆ 40. ┆ 25. ┆ 2.7 ┆ 1.9 ┆ 0.2 ┆ 126 ┆ 44. ┆ nul │\n",
       "│ 211 ┆ 6   ┆ 18  ┆ las ┆     ┆ 2-1 ┆     ┆     ┆ ht  ┆ 89  ┆ 83  ┆ 1   ┆ 4   ┆ 8   ┆ .23 ┆ 76  ┆ l   │\n",
       "│ 030 ┆     ┆     ┆ Goe ┆     ┆ 1-0 ┆     ┆     ┆     ┆     ┆     ┆     ┆     ┆     ┆     ┆     ┆     │\n",
       "│ 0   ┆     ┆     ┆ der ┆     ┆ 3   ┆     ┆     ┆     ┆     ┆     ┆     ┆     ┆     ┆     ┆     ┆     │\n",
       "│     ┆     ┆     ┆ t   ┆     ┆ 21: ┆     ┆     ┆     ┆     ┆     ┆     ┆     ┆     ┆     ┆     ┆     │\n",
       "│     ┆     ┆     ┆     ┆     ┆ 57: ┆     ┆     ┆     ┆     ┆     ┆     ┆     ┆     ┆     ┆     ┆     │\n",
       "│     ┆     ┆     ┆     ┆     ┆ 32. ┆     ┆     ┆     ┆     ┆     ┆     ┆     ┆     ┆     ┆     ┆     │\n",
       "│     ┆     ┆     ┆     ┆     ┆ 000 ┆     ┆     ┆     ┆     ┆     ┆     ┆     ┆     ┆     ┆     ┆     │\n",
       "│     ┆     ┆     ┆     ┆     ┆ 000 ┆     ┆     ┆     ┆     ┆     ┆     ┆     ┆     ┆     ┆     ┆     │\n",
       "│ 202 ┆ 898 ┆ 524 ┆ Tee ┆ 16  ┆ 202 ┆ 85  ┆ CIN ┆ lef ┆ 62. ┆ 4.3 ┆ 1.0 ┆ 0.1 ┆ 0.1 ┆ 279 ┆ 286 ┆ nul │\n",
       "│ 210 ┆     ┆ 41  ┆ Hig ┆     ┆ 2-1 ┆     ┆     ┆ t   ┆ 58  ┆ 9   ┆ 4   ┆ 9   ┆ 1   ┆ .16 ┆ .39 ┆ l   │\n",
       "│ 230 ┆     ┆     ┆ gin ┆     ┆ 0-2 ┆     ┆     ┆     ┆     ┆     ┆     ┆     ┆     ┆     ┆     ┆     │\n",
       "│ 2   ┆     ┆     ┆ s   ┆     ┆ 3   ┆     ┆     ┆     ┆     ┆     ┆     ┆     ┆     ┆     ┆     ┆     │\n",
       "│     ┆     ┆     ┆     ┆     ┆ 13: ┆     ┆     ┆     ┆     ┆     ┆     ┆     ┆     ┆     ┆     ┆     │\n",
       "│     ┆     ┆     ┆     ┆     ┆ 38: ┆     ┆     ┆     ┆     ┆     ┆     ┆     ┆     ┆     ┆     ┆     │\n",
       "│     ┆     ┆     ┆     ┆     ┆ 43. ┆     ┆     ┆     ┆     ┆     ┆     ┆     ┆     ┆     ┆     ┆     │\n",
       "│     ┆     ┆     ┆     ┆     ┆ 900 ┆     ┆     ┆     ┆     ┆     ┆     ┆     ┆     ┆     ┆     ┆     │\n",
       "│     ┆     ┆     ┆     ┆     ┆ 000 ┆     ┆     ┆     ┆     ┆     ┆     ┆     ┆     ┆     ┆     ┆     │\n",
       "└─────┴─────┴─────┴─────┴─────┴─────┴─────┴─────┴─────┴─────┴─────┴─────┴─────┴─────┴─────┴─────┴─────┘"
      ]
     },
     "execution_count": 19,
     "metadata": {},
     "output_type": "execute_result"
    }
   ],
   "source": [
    "og_df = pl.read_csv(\"data/bdb_2024/tracking_week_*.csv\", null_values=[\"NA\", \"nan\", \"N/A\", \"NaN\", \"\"])\n",
    "\n",
    "print(\"unique_games:\", og_df.select([\"gameId\"]).n_unique())\n",
    "print(\"unique_plays:\", og_df.select([\"gameId\", \"playId\"]).n_unique())\n",
    "print(\"unique_frames:\", og_df.select([\"gameId\", \"playId\", \"frameId\"]).n_unique())\n",
    "\n",
    "print(og_df.shape)\n",
    "og_df.sample(2)"
   ]
  },
  {
   "cell_type": "code",
   "execution_count": 21,
   "metadata": {},
   "outputs": [
    {
     "data": {
      "text/html": [
       "<div><style>\n",
       ".dataframe > thead > tr,\n",
       ".dataframe > tbody > tr {\n",
       "  text-align: right;\n",
       "  white-space: pre-wrap;\n",
       "}\n",
       "</style>\n",
       "<small>shape: (1, 17)</small><table border=\"1\" class=\"dataframe\"><thead><tr><th>gameId</th><th>playId</th><th>nflId</th><th>displayName</th><th>frameId</th><th>time</th><th>jerseyNumber</th><th>club</th><th>playDirection</th><th>x</th><th>y</th><th>s</th><th>a</th><th>dis</th><th>o</th><th>dir</th><th>event</th></tr><tr><td>i64</td><td>i64</td><td>i64</td><td>str</td><td>i64</td><td>str</td><td>i64</td><td>str</td><td>str</td><td>f64</td><td>f64</td><td>f64</td><td>f64</td><td>f64</td><td>f64</td><td>f64</td><td>str</td></tr></thead><tbody><tr><td>2022091801</td><td>63</td><td>null</td><td>&quot;football&quot;</td><td>2</td><td>&quot;2022-09-18 13:03:25.299999&quot;</td><td>null</td><td>&quot;football&quot;</td><td>&quot;right&quot;</td><td>40.939999</td><td>23.709999</td><td>0.0</td><td>0.0</td><td>0.0</td><td>null</td><td>null</td><td>null</td></tr></tbody></table></div>"
      ],
      "text/plain": [
       "shape: (1, 17)\n",
       "┌─────┬─────┬─────┬─────┬─────┬─────┬─────┬─────┬─────┬─────┬─────┬─────┬─────┬─────┬─────┬─────┬─────┐\n",
       "│ gam ┆ pla ┆ nfl ┆ dis ┆ fra ┆ tim ┆ jer ┆ clu ┆ pla ┆ x   ┆ y   ┆ s   ┆ a   ┆ dis ┆ o   ┆ dir ┆ eve │\n",
       "│ eId ┆ yId ┆ Id  ┆ pla ┆ meI ┆ e   ┆ sey ┆ b   ┆ yDi ┆ --- ┆ --- ┆ --- ┆ --- ┆ --- ┆ --- ┆ --- ┆ nt  │\n",
       "│ --- ┆ --- ┆ --- ┆ yNa ┆ d   ┆ --- ┆ Num ┆ --- ┆ rec ┆ f64 ┆ f64 ┆ f64 ┆ f64 ┆ f64 ┆ f64 ┆ f64 ┆ --- │\n",
       "│ i64 ┆ i64 ┆ i64 ┆ me  ┆ --- ┆ str ┆ ber ┆ str ┆ tio ┆     ┆     ┆     ┆     ┆     ┆     ┆     ┆ str │\n",
       "│     ┆     ┆     ┆ --- ┆ i64 ┆     ┆ --- ┆     ┆ n   ┆     ┆     ┆     ┆     ┆     ┆     ┆     ┆     │\n",
       "│     ┆     ┆     ┆ str ┆     ┆     ┆ i64 ┆     ┆ --- ┆     ┆     ┆     ┆     ┆     ┆     ┆     ┆     │\n",
       "│     ┆     ┆     ┆     ┆     ┆     ┆     ┆     ┆ str ┆     ┆     ┆     ┆     ┆     ┆     ┆     ┆     │\n",
       "╞═════╪═════╪═════╪═════╪═════╪═════╪═════╪═════╪═════╪═════╪═════╪═════╪═════╪═════╪═════╪═════╪═════╡\n",
       "│ 202 ┆ 63  ┆ nul ┆ foo ┆ 2   ┆ 202 ┆ nul ┆ foo ┆ rig ┆ 40. ┆ 23. ┆ 0.0 ┆ 0.0 ┆ 0.0 ┆ nul ┆ nul ┆ nul │\n",
       "│ 209 ┆     ┆ l   ┆ tba ┆     ┆ 2-0 ┆ l   ┆ tba ┆ ht  ┆ 939 ┆ 709 ┆     ┆     ┆     ┆ l   ┆ l   ┆ l   │\n",
       "│ 180 ┆     ┆     ┆ ll  ┆     ┆ 9-1 ┆     ┆ ll  ┆     ┆ 999 ┆ 999 ┆     ┆     ┆     ┆     ┆     ┆     │\n",
       "│ 1   ┆     ┆     ┆     ┆     ┆ 8   ┆     ┆     ┆     ┆     ┆     ┆     ┆     ┆     ┆     ┆     ┆     │\n",
       "│     ┆     ┆     ┆     ┆     ┆ 13: ┆     ┆     ┆     ┆     ┆     ┆     ┆     ┆     ┆     ┆     ┆     │\n",
       "│     ┆     ┆     ┆     ┆     ┆ 03: ┆     ┆     ┆     ┆     ┆     ┆     ┆     ┆     ┆     ┆     ┆     │\n",
       "│     ┆     ┆     ┆     ┆     ┆ 25. ┆     ┆     ┆     ┆     ┆     ┆     ┆     ┆     ┆     ┆     ┆     │\n",
       "│     ┆     ┆     ┆     ┆     ┆ 299 ┆     ┆     ┆     ┆     ┆     ┆     ┆     ┆     ┆     ┆     ┆     │\n",
       "│     ┆     ┆     ┆     ┆     ┆ 999 ┆     ┆     ┆     ┆     ┆     ┆     ┆     ┆     ┆     ┆     ┆     │\n",
       "└─────┴─────┴─────┴─────┴─────┴─────┴─────┴─────┴─────┴─────┴─────┴─────┴─────┴─────┴─────┴─────┴─────┘"
      ]
     },
     "execution_count": 21,
     "metadata": {},
     "output_type": "execute_result"
    }
   ],
   "source": [
    "og_df.filter((pl.col(\"gameId\") == 2022091801) & (pl.col(\"playId\") == 63) & (pl.col(\"frameId\") == 2))"
   ]
  },
  {
   "cell_type": "code",
   "execution_count": 20,
   "metadata": {},
   "outputs": [
    {
     "data": {
      "text/html": [
       "<div><style>\n",
       ".dataframe > thead > tr,\n",
       ".dataframe > tbody > tr {\n",
       "  text-align: right;\n",
       "  white-space: pre-wrap;\n",
       "}\n",
       "</style>\n",
       "<small>shape: (530_060, 4)</small><table border=\"1\" class=\"dataframe\"><thead><tr><th>gameId</th><th>playId</th><th>frameId</th><th>len</th></tr><tr><td>i64</td><td>i64</td><td>i64</td><td>u32</td></tr></thead><tbody><tr><td>2022091801</td><td>63</td><td>2</td><td>1</td></tr><tr><td>2022091801</td><td>63</td><td>59</td><td>1</td></tr><tr><td>2022102307</td><td>1505</td><td>32</td><td>1</td></tr><tr><td>2022101605</td><td>2970</td><td>11</td><td>1</td></tr><tr><td>2022091801</td><td>63</td><td>3</td><td>1</td></tr><tr><td>2022101605</td><td>2970</td><td>31</td><td>1</td></tr><tr><td>2022091801</td><td>63</td><td>40</td><td>1</td></tr><tr><td>2022102307</td><td>1505</td><td>44</td><td>1</td></tr><tr><td>2022102307</td><td>1505</td><td>58</td><td>1</td></tr><tr><td>2022102307</td><td>1505</td><td>21</td><td>1</td></tr><tr><td>2022101605</td><td>2970</td><td>50</td><td>1</td></tr><tr><td>2022091801</td><td>63</td><td>24</td><td>1</td></tr><tr><td>2022101605</td><td>2970</td><td>10</td><td>1</td></tr><tr><td>2022091801</td><td>63</td><td>56</td><td>1</td></tr><tr><td>2022101605</td><td>2970</td><td>16</td><td>1</td></tr><tr><td>&hellip;</td><td>&hellip;</td><td>&hellip;</td><td>&hellip;</td></tr><tr><td>2022110605</td><td>2447</td><td>25</td><td>23</td></tr><tr><td>2022103007</td><td>1272</td><td>31</td><td>23</td></tr><tr><td>2022100208</td><td>3142</td><td>27</td><td>23</td></tr><tr><td>2022102300</td><td>2194</td><td>13</td><td>23</td></tr><tr><td>2022110607</td><td>2984</td><td>28</td><td>23</td></tr><tr><td>2022091104</td><td>3286</td><td>18</td><td>23</td></tr><tr><td>2022092502</td><td>3302</td><td>19</td><td>23</td></tr><tr><td>2022100908</td><td>574</td><td>22</td><td>23</td></tr><tr><td>2022103000</td><td>3593</td><td>27</td><td>23</td></tr><tr><td>2022103012</td><td>3330</td><td>9</td><td>23</td></tr><tr><td>2022110605</td><td>2267</td><td>31</td><td>23</td></tr><tr><td>2022092505</td><td>1909</td><td>49</td><td>23</td></tr><tr><td>2022091110</td><td>3092</td><td>11</td><td>23</td></tr><tr><td>2022100201</td><td>3399</td><td>2</td><td>23</td></tr><tr><td>2022101606</td><td>2855</td><td>27</td><td>23</td></tr></tbody></table></div>"
      ],
      "text/plain": [
       "shape: (530_060, 4)\n",
       "┌────────────┬────────┬─────────┬─────┐\n",
       "│ gameId     ┆ playId ┆ frameId ┆ len │\n",
       "│ ---        ┆ ---    ┆ ---     ┆ --- │\n",
       "│ i64        ┆ i64    ┆ i64     ┆ u32 │\n",
       "╞════════════╪════════╪═════════╪═════╡\n",
       "│ 2022091801 ┆ 63     ┆ 2       ┆ 1   │\n",
       "│ 2022091801 ┆ 63     ┆ 59      ┆ 1   │\n",
       "│ 2022102307 ┆ 1505   ┆ 32      ┆ 1   │\n",
       "│ 2022101605 ┆ 2970   ┆ 11      ┆ 1   │\n",
       "│ 2022091801 ┆ 63     ┆ 3       ┆ 1   │\n",
       "│ 2022101605 ┆ 2970   ┆ 31      ┆ 1   │\n",
       "│ 2022091801 ┆ 63     ┆ 40      ┆ 1   │\n",
       "│ 2022102307 ┆ 1505   ┆ 44      ┆ 1   │\n",
       "│ 2022102307 ┆ 1505   ┆ 58      ┆ 1   │\n",
       "│ 2022102307 ┆ 1505   ┆ 21      ┆ 1   │\n",
       "│ 2022101605 ┆ 2970   ┆ 50      ┆ 1   │\n",
       "│ 2022091801 ┆ 63     ┆ 24      ┆ 1   │\n",
       "│ 2022101605 ┆ 2970   ┆ 10      ┆ 1   │\n",
       "│ 2022091801 ┆ 63     ┆ 56      ┆ 1   │\n",
       "│ 2022101605 ┆ 2970   ┆ 16      ┆ 1   │\n",
       "│ …          ┆ …      ┆ …       ┆ …   │\n",
       "│ 2022110605 ┆ 2447   ┆ 25      ┆ 23  │\n",
       "│ 2022103007 ┆ 1272   ┆ 31      ┆ 23  │\n",
       "│ 2022100208 ┆ 3142   ┆ 27      ┆ 23  │\n",
       "│ 2022102300 ┆ 2194   ┆ 13      ┆ 23  │\n",
       "│ 2022110607 ┆ 2984   ┆ 28      ┆ 23  │\n",
       "│ 2022091104 ┆ 3286   ┆ 18      ┆ 23  │\n",
       "│ 2022092502 ┆ 3302   ┆ 19      ┆ 23  │\n",
       "│ 2022100908 ┆ 574    ┆ 22      ┆ 23  │\n",
       "│ 2022103000 ┆ 3593   ┆ 27      ┆ 23  │\n",
       "│ 2022103012 ┆ 3330   ┆ 9       ┆ 23  │\n",
       "│ 2022110605 ┆ 2267   ┆ 31      ┆ 23  │\n",
       "│ 2022092505 ┆ 1909   ┆ 49      ┆ 23  │\n",
       "│ 2022091110 ┆ 3092   ┆ 11      ┆ 23  │\n",
       "│ 2022100201 ┆ 3399   ┆ 2       ┆ 23  │\n",
       "│ 2022101606 ┆ 2855   ┆ 27      ┆ 23  │\n",
       "└────────────┴────────┴─────────┴─────┘"
      ]
     },
     "execution_count": 20,
     "metadata": {},
     "output_type": "execute_result"
    }
   ],
   "source": [
    "og_df.group_by([\"gameId\", \"playId\", \"frameId\"]).len().sort(\"len\")"
   ]
  },
  {
   "cell_type": "code",
   "execution_count": 20,
   "metadata": {},
   "outputs": [
    {
     "data": {
      "text/plain": [
       "'frameId,event,nflId,side,x,y,s,o,dir\\n33,first_contact,34452,1,26.87,27.9,3.0,274.91,242.98\\n33,first_contact,40089,1,35.19,34.03,0.51,246.43,84.06\\n33,first_contact,42368,-1,40.37,25.44,6.15,304.19,297.75\\n33,first_contact,42400,1,38.47,25.94,2.25,268.97,301.11\\n33,first_contact,42470,-1,41.03,20.81,6.52,301.7,300.91\\n33,first_contact,42837,1,31.72,35.0,1.21,21.15,174.67\\n33,first_contact,43399,1,39.2,33.3,5.09,318.34,305.52\\n33,first_contact,43407,-1,46.02,21.38,5.01,210.35,248.51\\n33,first_contact,43441,-1,37.08,24.52,4.2,307.4,310.63\\n33,first_contact,44881,1,39.49,19.24,5.93,355.06,347.8\\n33,first_contact,45004,-1,30.98,34.61,0.57,356.3,164.21\\n33,first_contact,46338,1,32.7,34.21,1.08,230.21,213.33\\n33,first_contact,47799,-1,29.81,29.78,3.17,276.44,248.87\\n33,first_contact,47880,1,31.98,31.5,1.1,264.63,257.01\\n33,first_contact,48495,-1,40.51,17.94,4.63,142.23,80.42\\n33,first_contact,48766,1,38.49,16.08,4.74,10.24,352.49\\n33,first_contact,52415,-1,31.9,35.23,0.89,212.5,181.14\\n33,first_contact,52852,-1,39.38,15.84,5.09,40.62,333.18\\n33,first_contact,53595,-1,41.48,37.3,4.95,306.25,341.86\\n33,first_contact,53678,1,38.64,14.85,1.78,10.12,32.23\\n33,first_contact,53868,1,33.56,36.72,0.68,231.79,28.36\\n33,first_contact,54948,-1,35.33,31.36,2.67,272.22,261.64\\n'"
      ]
     },
     "execution_count": 20,
     "metadata": {},
     "output_type": "execute_result"
    }
   ],
   "source": [
    "(\n",
    "    df.filter(pl.col(\"event\") == \"first_contact\")\n",
    "    .filter(pl.col(\"playId\") == 3404)\n",
    "    .filter(pl.col(\"gameId\") == 2022101608)\n",
    "    .filter(pl.col(\"mirrored\") == False)\n",
    "    .sort(\"nflId\")\n",
    "    .select([\"frameId\", \"event\", \"nflId\", \"side\", \"x\", \"y\", \"s\", \"o\", \"dir\"])\n",
    "    .with_columns(pl.col(pl.FLOAT_DTYPES).round(2))\n",
    "    .write_csv()\n",
    ")"
   ]
  },
  {
   "cell_type": "code",
   "execution_count": 7,
   "metadata": {},
   "outputs": [
    {
     "data": {
      "text/html": [
       "<div><style>\n",
       ".dataframe > thead > tr,\n",
       ".dataframe > tbody > tr {\n",
       "  text-align: right;\n",
       "  white-space: pre-wrap;\n",
       "}\n",
       "</style>\n",
       "<small>shape: (25, 2)</small><table border=\"1\" class=\"dataframe\"><thead><tr><th>event</th><th>count</th></tr><tr><td>str</td><td>u32</td></tr></thead><tbody><tr><td>null</td><td>3207116</td></tr><tr><td>&quot;first_contact&quot;</td><td>69432</td></tr><tr><td>&quot;tackle&quot;</td><td>65868</td></tr><tr><td>&quot;ball_snap&quot;</td><td>42152</td></tr><tr><td>&quot;handoff&quot;</td><td>39072</td></tr><tr><td>&hellip;</td><td>&hellip;</td></tr><tr><td>&quot;pass_shovel&quot;</td><td>44</td></tr><tr><td>&quot;qb_sack&quot;</td><td>44</td></tr><tr><td>&quot;fumble_defense_recovered&quot;</td><td>44</td></tr><tr><td>&quot;autoevent_ballsnap&quot;</td><td>44</td></tr><tr><td>&quot;autoevent_passinterrupted&quot;</td><td>44</td></tr></tbody></table></div>"
      ],
      "text/plain": [
       "shape: (25, 2)\n",
       "┌───────────────────────────┬─────────┐\n",
       "│ event                     ┆ count   │\n",
       "│ ---                       ┆ ---     │\n",
       "│ str                       ┆ u32     │\n",
       "╞═══════════════════════════╪═════════╡\n",
       "│ null                      ┆ 3207116 │\n",
       "│ first_contact             ┆ 69432   │\n",
       "│ tackle                    ┆ 65868   │\n",
       "│ ball_snap                 ┆ 42152   │\n",
       "│ handoff                   ┆ 39072   │\n",
       "│ …                         ┆ …       │\n",
       "│ pass_shovel               ┆ 44      │\n",
       "│ qb_sack                   ┆ 44      │\n",
       "│ fumble_defense_recovered  ┆ 44      │\n",
       "│ autoevent_ballsnap        ┆ 44      │\n",
       "│ autoevent_passinterrupted ┆ 44      │\n",
       "└───────────────────────────┴─────────┘"
      ]
     },
     "execution_count": 7,
     "metadata": {},
     "output_type": "execute_result"
    }
   ],
   "source": [
    "df[\"event\"].value_counts(sort=True)"
   ]
  },
  {
   "cell_type": "code",
   "execution_count": 2,
   "metadata": {},
   "outputs": [
    {
     "name": "stdout",
     "output_type": "stream",
     "text": [
      "Best checkpoint for transformer: data/models/transformer/B32_H64_L1_LR1e-04_D0.3/checkpoints/epoch=8-val_loss=37.4.ckpt\n",
      "Best checkpoint for zoo: data/models/zoo/B32_H64_L1_LR1e-04_D0.3/checkpoints/epoch=8-val_loss=46.7.ckpt\n"
     ]
    }
   ],
   "source": [
    "import re\n",
    "from pathlib import Path\n",
    "\n",
    "\n",
    "def find_best_checkpoint(root_dir):\n",
    "    root_path = Path(root_dir)\n",
    "    best_checkpoints = {}\n",
    "\n",
    "    # Regex to extract validation loss from filename\n",
    "    loss_pattern = re.compile(r\"val_loss=([\\d\\.]+)\\D*\")\n",
    "\n",
    "    # Traverse through each model's directory\n",
    "    for model_dir in root_path.iterdir():\n",
    "        if model_dir.is_dir():\n",
    "            # Model name is the directory name\n",
    "            model_name = model_dir.name\n",
    "            lowest_loss = float(\"inf\")\n",
    "            best_checkpoint_path = None\n",
    "\n",
    "            # Loop through all subdirectories and files\n",
    "            for checkpoint_file in model_dir.rglob(\"*.ckpt\"):\n",
    "                # Find the validation loss from the filename\n",
    "                match = loss_pattern.search(checkpoint_file.name)\n",
    "                if match:\n",
    "                    match_str = match.group(1)\n",
    "                    current_loss = float(match_str.rstrip(\".\"))\n",
    "                    # Update the best checkpoint if the current one has a lower loss\n",
    "                    if current_loss < lowest_loss:\n",
    "                        lowest_loss = current_loss\n",
    "                        best_checkpoint_path = checkpoint_file\n",
    "\n",
    "            if best_checkpoint_path:\n",
    "                best_checkpoints[model_name] = best_checkpoint_path\n",
    "\n",
    "    return best_checkpoints\n",
    "\n",
    "\n",
    "# Example usage\n",
    "root_directory = \"data/models\"\n",
    "best_checkpoints = find_best_checkpoint(root_directory)\n",
    "for model, checkpoint in best_checkpoints.items():\n",
    "    print(f\"Best checkpoint for {model}: {checkpoint}\")"
   ]
  },
  {
   "cell_type": "code",
   "execution_count": 3,
   "metadata": {},
   "outputs": [
    {
     "name": "stderr",
     "output_type": "stream",
     "text": [
      "GPU available: True (cuda), used: True\n",
      "TPU available: False, using: 0 TPU cores\n",
      "IPU available: False, using: 0 IPUs\n",
      "HPU available: False, using: 0 HPUs\n",
      "Restoring states from the checkpoint path at data/models/zoo/B32_H64_L1_LR1e-04_D0.3/checkpoints/epoch=8-val_loss=46.7.ckpt\n",
      "LOCAL_RANK: 0 - CUDA_VISIBLE_DEVICES: [0,1,2,3]\n",
      "Loaded model weights from the checkpoint at data/models/zoo/B32_H64_L1_LR1e-04_D0.3/checkpoints/epoch=8-val_loss=46.7.ckpt\n"
     ]
    },
    {
     "name": "stdout",
     "output_type": "stream",
     "text": [
      "Predicting DataLoader 0: 100%|██████████| 724/724 [00:04<00:00, 154.14it/s]\n"
     ]
    },
    {
     "name": "stderr",
     "output_type": "stream",
     "text": [
      "GPU available: True (cuda), used: True\n",
      "TPU available: False, using: 0 TPU cores\n",
      "IPU available: False, using: 0 IPUs\n",
      "HPU available: False, using: 0 HPUs\n",
      "Restoring states from the checkpoint path at data/models/zoo/B32_H64_L1_LR1e-04_D0.3/checkpoints/epoch=8-val_loss=46.7.ckpt\n",
      "LOCAL_RANK: 0 - CUDA_VISIBLE_DEVICES: [0,1,2,3]\n",
      "Loaded model weights from the checkpoint at data/models/zoo/B32_H64_L1_LR1e-04_D0.3/checkpoints/epoch=8-val_loss=46.7.ckpt\n"
     ]
    },
    {
     "name": "stdout",
     "output_type": "stream",
     "text": [
      "Predicting DataLoader 0: 100%|██████████| 218/218 [00:01<00:00, 162.48it/s]\n"
     ]
    },
    {
     "name": "stderr",
     "output_type": "stream",
     "text": [
      "GPU available: True (cuda), used: True\n",
      "TPU available: False, using: 0 TPU cores\n",
      "IPU available: False, using: 0 IPUs\n",
      "HPU available: False, using: 0 HPUs\n",
      "Restoring states from the checkpoint path at data/models/zoo/B32_H64_L1_LR1e-04_D0.3/checkpoints/epoch=8-val_loss=46.7.ckpt\n",
      "LOCAL_RANK: 0 - CUDA_VISIBLE_DEVICES: [0,1,2,3]\n",
      "Loaded model weights from the checkpoint at data/models/zoo/B32_H64_L1_LR1e-04_D0.3/checkpoints/epoch=8-val_loss=46.7.ckpt\n"
     ]
    },
    {
     "name": "stdout",
     "output_type": "stream",
     "text": [
      "Predicting DataLoader 0: 100%|██████████| 94/94 [00:00<00:00, 151.36it/s]\n"
     ]
    },
    {
     "name": "stderr",
     "output_type": "stream",
     "text": [
      "GPU available: True (cuda), used: True\n",
      "TPU available: False, using: 0 TPU cores\n",
      "IPU available: False, using: 0 IPUs\n",
      "HPU available: False, using: 0 HPUs\n",
      "Restoring states from the checkpoint path at data/models/transformer/B32_H64_L1_LR1e-04_D0.3/checkpoints/epoch=8-val_loss=37.4.ckpt\n",
      "LOCAL_RANK: 0 - CUDA_VISIBLE_DEVICES: [0,1,2,3]\n",
      "Loaded model weights from the checkpoint at data/models/transformer/B32_H64_L1_LR1e-04_D0.3/checkpoints/epoch=8-val_loss=37.4.ckpt\n"
     ]
    },
    {
     "name": "stdout",
     "output_type": "stream",
     "text": [
      "Predicting DataLoader 0: 100%|██████████| 724/724 [00:15<00:00, 45.86it/s] \n"
     ]
    },
    {
     "name": "stderr",
     "output_type": "stream",
     "text": [
      "GPU available: True (cuda), used: True\n",
      "TPU available: False, using: 0 TPU cores\n",
      "IPU available: False, using: 0 IPUs\n",
      "HPU available: False, using: 0 HPUs\n",
      "Restoring states from the checkpoint path at data/models/transformer/B32_H64_L1_LR1e-04_D0.3/checkpoints/epoch=8-val_loss=37.4.ckpt\n",
      "LOCAL_RANK: 0 - CUDA_VISIBLE_DEVICES: [0,1,2,3]\n",
      "Loaded model weights from the checkpoint at data/models/transformer/B32_H64_L1_LR1e-04_D0.3/checkpoints/epoch=8-val_loss=37.4.ckpt\n"
     ]
    },
    {
     "name": "stdout",
     "output_type": "stream",
     "text": [
      "Predicting DataLoader 0: 100%|██████████| 218/218 [00:00<00:00, 326.14it/s]\n"
     ]
    },
    {
     "name": "stderr",
     "output_type": "stream",
     "text": [
      "GPU available: True (cuda), used: True\n",
      "TPU available: False, using: 0 TPU cores\n",
      "IPU available: False, using: 0 IPUs\n",
      "HPU available: False, using: 0 HPUs\n",
      "Restoring states from the checkpoint path at data/models/transformer/B32_H64_L1_LR1e-04_D0.3/checkpoints/epoch=8-val_loss=37.4.ckpt\n",
      "LOCAL_RANK: 0 - CUDA_VISIBLE_DEVICES: [0,1,2,3]\n",
      "Loaded model weights from the checkpoint at data/models/transformer/B32_H64_L1_LR1e-04_D0.3/checkpoints/epoch=8-val_loss=37.4.ckpt\n"
     ]
    },
    {
     "name": "stdout",
     "output_type": "stream",
     "text": [
      "Predicting DataLoader 0: 100%|██████████| 94/94 [00:00<00:00, 332.58it/s]\n"
     ]
    },
    {
     "data": {
      "text/html": [
       "<div><style>\n",
       ".dataframe > thead > tr,\n",
       ".dataframe > tbody > tr {\n",
       "  text-align: right;\n",
       "  white-space: pre-wrap;\n",
       "}\n",
       "</style>\n",
       "<small>shape: (3, 27)</small><table border=\"1\" class=\"dataframe\"><thead><tr><th>gameId</th><th>playId</th><th>mirrored</th><th>ballCarrierNflId</th><th>ballCarrierName</th><th>tackle_frameId</th><th>tackle_event</th><th>tackle_x</th><th>tackle_y</th><th>tackle_x_rel</th><th>tackle_y_rel</th><th>play_origin_x</th><th>play_origin_y</th><th>tackle_event_enum</th><th>frameId</th><th>tackle_x_rel_pred</th><th>tackle_y_rel_pred</th><th>dataset_split</th><th>tackle_x_pred</th><th>tackle_y_pred</th><th>model_type</th><th>used_play_features</th><th>batch_size</th><th>hidden_dim</th><th>num_layers</th><th>dropout</th><th>learning_rate</th></tr><tr><td>i64</td><td>i64</td><td>bool</td><td>i64</td><td>str</td><td>i64</td><td>str</td><td>f64</td><td>f64</td><td>f64</td><td>f64</td><td>f64</td><td>f64</td><td>i64</td><td>i64</td><td>f32</td><td>f32</td><td>str</td><td>f64</td><td>f64</td><td>str</td><td>bool</td><td>i32</td><td>i32</td><td>i32</td><td>f64</td><td>f64</td></tr></thead><tbody><tr><td>2022101604</td><td>2921</td><td>true</td><td>43971</td><td>&quot;C.J. Ham&quot;</td><td>29</td><td>&quot;tackle&quot;</td><td>47.56</td><td>27.63</td><td>6.78</td><td>-4.74</td><td>40.78</td><td>32.37</td><td>0</td><td>21</td><td>10.57</td><td>-8.98</td><td>&quot;val&quot;</td><td>51.35</td><td>23.39</td><td>&quot;zoo&quot;</td><td>false</td><td>32</td><td>64</td><td>1</td><td>0.3</td><td>0.0001</td></tr><tr><td>2022100300</td><td>2686</td><td>true</td><td>47819</td><td>&quot;Deebo Samuel&quot;</td><td>42</td><td>&quot;tackle&quot;</td><td>109.38</td><td>40.93</td><td>9.22</td><td>0.16</td><td>100.16</td><td>40.77</td><td>0</td><td>32</td><td>12.08</td><td>13.16</td><td>&quot;val&quot;</td><td>112.24</td><td>53.93</td><td>&quot;zoo&quot;</td><td>false</td><td>32</td><td>64</td><td>1</td><td>0.3</td><td>0.0001</td></tr><tr><td>2022103004</td><td>2511</td><td>false</td><td>43334</td><td>&quot;Derrick Henry&quot;</td><td>44</td><td>&quot;tackle&quot;</td><td>98.08</td><td>39.03</td><td>8.8</td><td>9.37</td><td>89.28</td><td>29.66</td><td>0</td><td>16</td><td>10.7</td><td>6.45</td><td>&quot;train&quot;</td><td>99.98</td><td>36.11</td><td>&quot;zoo&quot;</td><td>false</td><td>32</td><td>64</td><td>1</td><td>0.3</td><td>0.0001</td></tr></tbody></table></div>"
      ],
      "text/plain": [
       "shape: (3, 27)\n",
       "┌────────────┬────────┬──────────┬────────────┬───┬────────────┬────────────┬─────────┬────────────┐\n",
       "│ gameId     ┆ playId ┆ mirrored ┆ ballCarrie ┆ … ┆ hidden_dim ┆ num_layers ┆ dropout ┆ learning_r │\n",
       "│ ---        ┆ ---    ┆ ---      ┆ rNflId     ┆   ┆ ---        ┆ ---        ┆ ---     ┆ ate        │\n",
       "│ i64        ┆ i64    ┆ bool     ┆ ---        ┆   ┆ i32        ┆ i32        ┆ f64     ┆ ---        │\n",
       "│            ┆        ┆          ┆ i64        ┆   ┆            ┆            ┆         ┆ f64        │\n",
       "╞════════════╪════════╪══════════╪════════════╪═══╪════════════╪════════════╪═════════╪════════════╡\n",
       "│ 2022101604 ┆ 2921   ┆ true     ┆ 43971      ┆ … ┆ 64         ┆ 1          ┆ 0.3     ┆ 0.0001     │\n",
       "│ 2022100300 ┆ 2686   ┆ true     ┆ 47819      ┆ … ┆ 64         ┆ 1          ┆ 0.3     ┆ 0.0001     │\n",
       "│ 2022103004 ┆ 2511   ┆ false    ┆ 43334      ┆ … ┆ 64         ┆ 1          ┆ 0.3     ┆ 0.0001     │\n",
       "└────────────┴────────┴──────────┴────────────┴───┴────────────┴────────────┴─────────┴────────────┘"
      ]
     },
     "metadata": {},
     "output_type": "display_data"
    },
    {
     "data": {
      "text/html": [
       "<div><style>\n",
       ".dataframe > thead > tr,\n",
       ".dataframe > tbody > tr {\n",
       "  text-align: right;\n",
       "  white-space: pre-wrap;\n",
       "}\n",
       "</style>\n",
       "<small>shape: (3, 27)</small><table border=\"1\" class=\"dataframe\"><thead><tr><th>gameId</th><th>playId</th><th>mirrored</th><th>ballCarrierNflId</th><th>ballCarrierName</th><th>tackle_frameId</th><th>tackle_event</th><th>tackle_x</th><th>tackle_y</th><th>tackle_x_rel</th><th>tackle_y_rel</th><th>play_origin_x</th><th>play_origin_y</th><th>tackle_event_enum</th><th>frameId</th><th>tackle_x_rel_pred</th><th>tackle_y_rel_pred</th><th>dataset_split</th><th>tackle_x_pred</th><th>tackle_y_pred</th><th>model_type</th><th>used_play_features</th><th>batch_size</th><th>hidden_dim</th><th>num_layers</th><th>dropout</th><th>learning_rate</th></tr><tr><td>i64</td><td>i64</td><td>bool</td><td>i64</td><td>str</td><td>i64</td><td>str</td><td>f64</td><td>f64</td><td>f64</td><td>f64</td><td>f64</td><td>f64</td><td>i64</td><td>i64</td><td>f32</td><td>f32</td><td>str</td><td>f64</td><td>f64</td><td>str</td><td>bool</td><td>i32</td><td>i32</td><td>i32</td><td>f64</td><td>f64</td></tr></thead><tbody><tr><td>2022103000</td><td>3868</td><td>true</td><td>40129</td><td>&quot;Latavius Murray&quot;</td><td>52</td><td>&quot;tackle&quot;</td><td>107.7</td><td>41.33</td><td>14.63</td><td>12.09</td><td>93.07</td><td>29.24</td><td>0</td><td>42</td><td>14.26</td><td>11.67</td><td>&quot;train&quot;</td><td>107.33</td><td>40.91</td><td>&quot;transformer&quot;</td><td>false</td><td>32</td><td>64</td><td>1</td><td>0.3</td><td>0.0001</td></tr><tr><td>2022091808</td><td>3526</td><td>true</td><td>54558</td><td>&quot;Tyrion Davis-Price&quot;</td><td>36</td><td>&quot;tackle&quot;</td><td>108.19</td><td>25.23</td><td>6.35</td><td>-4.56</td><td>101.84</td><td>29.79</td><td>0</td><td>28</td><td>5.4</td><td>-5.7</td><td>&quot;val&quot;</td><td>107.24</td><td>24.09</td><td>&quot;transformer&quot;</td><td>false</td><td>32</td><td>64</td><td>1</td><td>0.3</td><td>0.0001</td></tr><tr><td>2022091200</td><td>315</td><td>true</td><td>53464</td><td>&quot;Javonte Williams&quot;</td><td>54</td><td>&quot;out_of_bounds&quot;</td><td>55.95</td><td>53.17</td><td>19.05</td><td>23.23</td><td>36.9</td><td>29.94</td><td>1</td><td>3</td><td>12.36</td><td>-0.52</td><td>&quot;val&quot;</td><td>49.26</td><td>29.42</td><td>&quot;transformer&quot;</td><td>false</td><td>32</td><td>64</td><td>1</td><td>0.3</td><td>0.0001</td></tr></tbody></table></div>"
      ],
      "text/plain": [
       "shape: (3, 27)\n",
       "┌────────────┬────────┬──────────┬────────────┬───┬────────────┬────────────┬─────────┬────────────┐\n",
       "│ gameId     ┆ playId ┆ mirrored ┆ ballCarrie ┆ … ┆ hidden_dim ┆ num_layers ┆ dropout ┆ learning_r │\n",
       "│ ---        ┆ ---    ┆ ---      ┆ rNflId     ┆   ┆ ---        ┆ ---        ┆ ---     ┆ ate        │\n",
       "│ i64        ┆ i64    ┆ bool     ┆ ---        ┆   ┆ i32        ┆ i32        ┆ f64     ┆ ---        │\n",
       "│            ┆        ┆          ┆ i64        ┆   ┆            ┆            ┆         ┆ f64        │\n",
       "╞════════════╪════════╪══════════╪════════════╪═══╪════════════╪════════════╪═════════╪════════════╡\n",
       "│ 2022103000 ┆ 3868   ┆ true     ┆ 40129      ┆ … ┆ 64         ┆ 1          ┆ 0.3     ┆ 0.0001     │\n",
       "│ 2022091808 ┆ 3526   ┆ true     ┆ 54558      ┆ … ┆ 64         ┆ 1          ┆ 0.3     ┆ 0.0001     │\n",
       "│ 2022091200 ┆ 315    ┆ true     ┆ 53464      ┆ … ┆ 64         ┆ 1          ┆ 0.3     ┆ 0.0001     │\n",
       "└────────────┴────────┴──────────┴────────────┴───┴────────────┴────────────┴─────────┴────────────┘"
      ]
     },
     "metadata": {},
     "output_type": "display_data"
    },
    {
     "ename": "",
     "evalue": "",
     "output_type": "error",
     "traceback": [
      "\u001b[1;31mThe Kernel crashed while executing code in the current cell or a previous cell. \n",
      "\u001b[1;31mPlease review the code in the cell(s) to identify a possible cause of the failure. \n",
      "\u001b[1;31mClick <a href='https://aka.ms/vscodeJupyterKernelCrash'>here</a> for more info. \n",
      "\u001b[1;31mView Jupyter <a href='command:jupyter.viewOutput'>log</a> for further details."
     ]
    }
   ],
   "source": [
    "import polars as pl\n",
    "\n",
    "zoo_df = predict_model_as_df(best_checkpoints[\"zoo\"])\n",
    "trfm_df = predict_model_as_df(best_checkpoints[\"transformer\"])\n",
    "\n",
    "display(zoo_df.sample(3))\n",
    "display(trfm_df.sample(3))"
   ]
  }
 ],
 "metadata": {
  "kernelspec": {
   "display_name": ".venv",
   "language": "python",
   "name": "python3"
  },
  "language_info": {
   "codemirror_mode": {
    "name": "ipython",
    "version": 3
   },
   "file_extension": ".py",
   "mimetype": "text/x-python",
   "name": "python",
   "nbconvert_exporter": "python",
   "pygments_lexer": "ipython3",
   "version": "3.12.3"
  }
 },
 "nbformat": 4,
 "nbformat_minor": 2
}
