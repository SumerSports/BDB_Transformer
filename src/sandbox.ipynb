{
 "cells": [
  {
   "cell_type": "code",
   "execution_count": 1,
   "metadata": {},
   "outputs": [],
   "source": [
    "import os\n",
    "\n",
    "# change dir to workspace dir\n",
    "os.chdir(\"../\")"
   ]
  },
  {
   "cell_type": "code",
   "execution_count": 2,
   "metadata": {},
   "outputs": [
    {
     "name": "stdout",
     "output_type": "stream",
     "text": [
      "Best checkpoint for transformer: data/models/transformer/B32_H64_L1_LR1e-04_D0.3/checkpoints/epoch=8-val_loss=37.4.ckpt\n",
      "Best checkpoint for zoo: data/models/zoo/B32_H64_L1_LR1e-04_D0.3/checkpoints/epoch=8-val_loss=46.7.ckpt\n"
     ]
    }
   ],
   "source": [
    "from pathlib import Path\n",
    "import re\n",
    "\n",
    "def find_best_checkpoint(root_dir):\n",
    "    root_path = Path(root_dir)\n",
    "    best_checkpoints = {}\n",
    "\n",
    "    # Regex to extract validation loss from filename\n",
    "    loss_pattern = re.compile(r'val_loss=([\\d\\.]+)\\D*')\n",
    "\n",
    "    # Traverse through each model's directory\n",
    "    for model_dir in root_path.iterdir():\n",
    "        if model_dir.is_dir():\n",
    "            # Model name is the directory name\n",
    "            model_name = model_dir.name\n",
    "            lowest_loss = float('inf')\n",
    "            best_checkpoint_path = None\n",
    "\n",
    "            # Loop through all subdirectories and files\n",
    "            for checkpoint_file in model_dir.rglob('*.ckpt'):\n",
    "                # Find the validation loss from the filename\n",
    "                match = loss_pattern.search(checkpoint_file.name)\n",
    "                if match:\n",
    "                    match_str = match.group(1)\n",
    "                    current_loss = float(match_str.rstrip(\".\"))\n",
    "                    # Update the best checkpoint if the current one has a lower loss\n",
    "                    if current_loss < lowest_loss:\n",
    "                        lowest_loss = current_loss\n",
    "                        best_checkpoint_path = checkpoint_file\n",
    "            \n",
    "            if best_checkpoint_path:\n",
    "                best_checkpoints[model_name] = best_checkpoint_path\n",
    "\n",
    "    return best_checkpoints\n",
    "\n",
    "# Example usage\n",
    "root_directory = 'data/models'\n",
    "best_checkpoints = find_best_checkpoint(root_directory)\n",
    "for model, checkpoint in best_checkpoints.items():\n",
    "    print(f\"Best checkpoint for {model}: {checkpoint}\")\n"
   ]
  },
  {
   "cell_type": "code",
   "execution_count": 3,
   "metadata": {},
   "outputs": [
    {
     "name": "stderr",
     "output_type": "stream",
     "text": [
      "GPU available: True (cuda), used: True\n",
      "TPU available: False, using: 0 TPU cores\n",
      "IPU available: False, using: 0 IPUs\n",
      "HPU available: False, using: 0 HPUs\n",
      "Restoring states from the checkpoint path at data/models/zoo/B32_H64_L1_LR1e-04_D0.3/checkpoints/epoch=8-val_loss=46.7.ckpt\n",
      "LOCAL_RANK: 0 - CUDA_VISIBLE_DEVICES: [0,1,2,3]\n",
      "Loaded model weights from the checkpoint at data/models/zoo/B32_H64_L1_LR1e-04_D0.3/checkpoints/epoch=8-val_loss=46.7.ckpt\n"
     ]
    },
    {
     "name": "stdout",
     "output_type": "stream",
     "text": [
      "Predicting DataLoader 0: 100%|██████████| 724/724 [00:04<00:00, 154.14it/s]\n"
     ]
    },
    {
     "name": "stderr",
     "output_type": "stream",
     "text": [
      "GPU available: True (cuda), used: True\n",
      "TPU available: False, using: 0 TPU cores\n",
      "IPU available: False, using: 0 IPUs\n",
      "HPU available: False, using: 0 HPUs\n",
      "Restoring states from the checkpoint path at data/models/zoo/B32_H64_L1_LR1e-04_D0.3/checkpoints/epoch=8-val_loss=46.7.ckpt\n",
      "LOCAL_RANK: 0 - CUDA_VISIBLE_DEVICES: [0,1,2,3]\n",
      "Loaded model weights from the checkpoint at data/models/zoo/B32_H64_L1_LR1e-04_D0.3/checkpoints/epoch=8-val_loss=46.7.ckpt\n"
     ]
    },
    {
     "name": "stdout",
     "output_type": "stream",
     "text": [
      "Predicting DataLoader 0: 100%|██████████| 218/218 [00:01<00:00, 162.48it/s]\n"
     ]
    },
    {
     "name": "stderr",
     "output_type": "stream",
     "text": [
      "GPU available: True (cuda), used: True\n",
      "TPU available: False, using: 0 TPU cores\n",
      "IPU available: False, using: 0 IPUs\n",
      "HPU available: False, using: 0 HPUs\n",
      "Restoring states from the checkpoint path at data/models/zoo/B32_H64_L1_LR1e-04_D0.3/checkpoints/epoch=8-val_loss=46.7.ckpt\n",
      "LOCAL_RANK: 0 - CUDA_VISIBLE_DEVICES: [0,1,2,3]\n",
      "Loaded model weights from the checkpoint at data/models/zoo/B32_H64_L1_LR1e-04_D0.3/checkpoints/epoch=8-val_loss=46.7.ckpt\n"
     ]
    },
    {
     "name": "stdout",
     "output_type": "stream",
     "text": [
      "Predicting DataLoader 0: 100%|██████████| 94/94 [00:00<00:00, 151.36it/s]\n"
     ]
    },
    {
     "name": "stderr",
     "output_type": "stream",
     "text": [
      "GPU available: True (cuda), used: True\n",
      "TPU available: False, using: 0 TPU cores\n",
      "IPU available: False, using: 0 IPUs\n",
      "HPU available: False, using: 0 HPUs\n",
      "Restoring states from the checkpoint path at data/models/transformer/B32_H64_L1_LR1e-04_D0.3/checkpoints/epoch=8-val_loss=37.4.ckpt\n",
      "LOCAL_RANK: 0 - CUDA_VISIBLE_DEVICES: [0,1,2,3]\n",
      "Loaded model weights from the checkpoint at data/models/transformer/B32_H64_L1_LR1e-04_D0.3/checkpoints/epoch=8-val_loss=37.4.ckpt\n"
     ]
    },
    {
     "name": "stdout",
     "output_type": "stream",
     "text": [
      "Predicting DataLoader 0: 100%|██████████| 724/724 [00:15<00:00, 45.86it/s] \n"
     ]
    },
    {
     "name": "stderr",
     "output_type": "stream",
     "text": [
      "GPU available: True (cuda), used: True\n",
      "TPU available: False, using: 0 TPU cores\n",
      "IPU available: False, using: 0 IPUs\n",
      "HPU available: False, using: 0 HPUs\n",
      "Restoring states from the checkpoint path at data/models/transformer/B32_H64_L1_LR1e-04_D0.3/checkpoints/epoch=8-val_loss=37.4.ckpt\n",
      "LOCAL_RANK: 0 - CUDA_VISIBLE_DEVICES: [0,1,2,3]\n",
      "Loaded model weights from the checkpoint at data/models/transformer/B32_H64_L1_LR1e-04_D0.3/checkpoints/epoch=8-val_loss=37.4.ckpt\n"
     ]
    },
    {
     "name": "stdout",
     "output_type": "stream",
     "text": [
      "Predicting DataLoader 0: 100%|██████████| 218/218 [00:00<00:00, 326.14it/s]\n"
     ]
    },
    {
     "name": "stderr",
     "output_type": "stream",
     "text": [
      "GPU available: True (cuda), used: True\n",
      "TPU available: False, using: 0 TPU cores\n",
      "IPU available: False, using: 0 IPUs\n",
      "HPU available: False, using: 0 HPUs\n",
      "Restoring states from the checkpoint path at data/models/transformer/B32_H64_L1_LR1e-04_D0.3/checkpoints/epoch=8-val_loss=37.4.ckpt\n",
      "LOCAL_RANK: 0 - CUDA_VISIBLE_DEVICES: [0,1,2,3]\n",
      "Loaded model weights from the checkpoint at data/models/transformer/B32_H64_L1_LR1e-04_D0.3/checkpoints/epoch=8-val_loss=37.4.ckpt\n"
     ]
    },
    {
     "name": "stdout",
     "output_type": "stream",
     "text": [
      "Predicting DataLoader 0: 100%|██████████| 94/94 [00:00<00:00, 332.58it/s]\n"
     ]
    },
    {
     "data": {
      "text/html": [
       "<div><style>\n",
       ".dataframe > thead > tr,\n",
       ".dataframe > tbody > tr {\n",
       "  text-align: right;\n",
       "  white-space: pre-wrap;\n",
       "}\n",
       "</style>\n",
       "<small>shape: (3, 27)</small><table border=\"1\" class=\"dataframe\"><thead><tr><th>gameId</th><th>playId</th><th>mirrored</th><th>ballCarrierNflId</th><th>ballCarrierName</th><th>tackle_frameId</th><th>tackle_event</th><th>tackle_x</th><th>tackle_y</th><th>tackle_x_rel</th><th>tackle_y_rel</th><th>play_origin_x</th><th>play_origin_y</th><th>tackle_event_enum</th><th>frameId</th><th>tackle_x_rel_pred</th><th>tackle_y_rel_pred</th><th>dataset_split</th><th>tackle_x_pred</th><th>tackle_y_pred</th><th>model_type</th><th>used_play_features</th><th>batch_size</th><th>hidden_dim</th><th>num_layers</th><th>dropout</th><th>learning_rate</th></tr><tr><td>i64</td><td>i64</td><td>bool</td><td>i64</td><td>str</td><td>i64</td><td>str</td><td>f64</td><td>f64</td><td>f64</td><td>f64</td><td>f64</td><td>f64</td><td>i64</td><td>i64</td><td>f32</td><td>f32</td><td>str</td><td>f64</td><td>f64</td><td>str</td><td>bool</td><td>i32</td><td>i32</td><td>i32</td><td>f64</td><td>f64</td></tr></thead><tbody><tr><td>2022101604</td><td>2921</td><td>true</td><td>43971</td><td>&quot;C.J. Ham&quot;</td><td>29</td><td>&quot;tackle&quot;</td><td>47.56</td><td>27.63</td><td>6.78</td><td>-4.74</td><td>40.78</td><td>32.37</td><td>0</td><td>21</td><td>10.57</td><td>-8.98</td><td>&quot;val&quot;</td><td>51.35</td><td>23.39</td><td>&quot;zoo&quot;</td><td>false</td><td>32</td><td>64</td><td>1</td><td>0.3</td><td>0.0001</td></tr><tr><td>2022100300</td><td>2686</td><td>true</td><td>47819</td><td>&quot;Deebo Samuel&quot;</td><td>42</td><td>&quot;tackle&quot;</td><td>109.38</td><td>40.93</td><td>9.22</td><td>0.16</td><td>100.16</td><td>40.77</td><td>0</td><td>32</td><td>12.08</td><td>13.16</td><td>&quot;val&quot;</td><td>112.24</td><td>53.93</td><td>&quot;zoo&quot;</td><td>false</td><td>32</td><td>64</td><td>1</td><td>0.3</td><td>0.0001</td></tr><tr><td>2022103004</td><td>2511</td><td>false</td><td>43334</td><td>&quot;Derrick Henry&quot;</td><td>44</td><td>&quot;tackle&quot;</td><td>98.08</td><td>39.03</td><td>8.8</td><td>9.37</td><td>89.28</td><td>29.66</td><td>0</td><td>16</td><td>10.7</td><td>6.45</td><td>&quot;train&quot;</td><td>99.98</td><td>36.11</td><td>&quot;zoo&quot;</td><td>false</td><td>32</td><td>64</td><td>1</td><td>0.3</td><td>0.0001</td></tr></tbody></table></div>"
      ],
      "text/plain": [
       "shape: (3, 27)\n",
       "┌────────────┬────────┬──────────┬────────────┬───┬────────────┬────────────┬─────────┬────────────┐\n",
       "│ gameId     ┆ playId ┆ mirrored ┆ ballCarrie ┆ … ┆ hidden_dim ┆ num_layers ┆ dropout ┆ learning_r │\n",
       "│ ---        ┆ ---    ┆ ---      ┆ rNflId     ┆   ┆ ---        ┆ ---        ┆ ---     ┆ ate        │\n",
       "│ i64        ┆ i64    ┆ bool     ┆ ---        ┆   ┆ i32        ┆ i32        ┆ f64     ┆ ---        │\n",
       "│            ┆        ┆          ┆ i64        ┆   ┆            ┆            ┆         ┆ f64        │\n",
       "╞════════════╪════════╪══════════╪════════════╪═══╪════════════╪════════════╪═════════╪════════════╡\n",
       "│ 2022101604 ┆ 2921   ┆ true     ┆ 43971      ┆ … ┆ 64         ┆ 1          ┆ 0.3     ┆ 0.0001     │\n",
       "│ 2022100300 ┆ 2686   ┆ true     ┆ 47819      ┆ … ┆ 64         ┆ 1          ┆ 0.3     ┆ 0.0001     │\n",
       "│ 2022103004 ┆ 2511   ┆ false    ┆ 43334      ┆ … ┆ 64         ┆ 1          ┆ 0.3     ┆ 0.0001     │\n",
       "└────────────┴────────┴──────────┴────────────┴───┴────────────┴────────────┴─────────┴────────────┘"
      ]
     },
     "metadata": {},
     "output_type": "display_data"
    },
    {
     "data": {
      "text/html": [
       "<div><style>\n",
       ".dataframe > thead > tr,\n",
       ".dataframe > tbody > tr {\n",
       "  text-align: right;\n",
       "  white-space: pre-wrap;\n",
       "}\n",
       "</style>\n",
       "<small>shape: (3, 27)</small><table border=\"1\" class=\"dataframe\"><thead><tr><th>gameId</th><th>playId</th><th>mirrored</th><th>ballCarrierNflId</th><th>ballCarrierName</th><th>tackle_frameId</th><th>tackle_event</th><th>tackle_x</th><th>tackle_y</th><th>tackle_x_rel</th><th>tackle_y_rel</th><th>play_origin_x</th><th>play_origin_y</th><th>tackle_event_enum</th><th>frameId</th><th>tackle_x_rel_pred</th><th>tackle_y_rel_pred</th><th>dataset_split</th><th>tackle_x_pred</th><th>tackle_y_pred</th><th>model_type</th><th>used_play_features</th><th>batch_size</th><th>hidden_dim</th><th>num_layers</th><th>dropout</th><th>learning_rate</th></tr><tr><td>i64</td><td>i64</td><td>bool</td><td>i64</td><td>str</td><td>i64</td><td>str</td><td>f64</td><td>f64</td><td>f64</td><td>f64</td><td>f64</td><td>f64</td><td>i64</td><td>i64</td><td>f32</td><td>f32</td><td>str</td><td>f64</td><td>f64</td><td>str</td><td>bool</td><td>i32</td><td>i32</td><td>i32</td><td>f64</td><td>f64</td></tr></thead><tbody><tr><td>2022103000</td><td>3868</td><td>true</td><td>40129</td><td>&quot;Latavius Murray&quot;</td><td>52</td><td>&quot;tackle&quot;</td><td>107.7</td><td>41.33</td><td>14.63</td><td>12.09</td><td>93.07</td><td>29.24</td><td>0</td><td>42</td><td>14.26</td><td>11.67</td><td>&quot;train&quot;</td><td>107.33</td><td>40.91</td><td>&quot;transformer&quot;</td><td>false</td><td>32</td><td>64</td><td>1</td><td>0.3</td><td>0.0001</td></tr><tr><td>2022091808</td><td>3526</td><td>true</td><td>54558</td><td>&quot;Tyrion Davis-Price&quot;</td><td>36</td><td>&quot;tackle&quot;</td><td>108.19</td><td>25.23</td><td>6.35</td><td>-4.56</td><td>101.84</td><td>29.79</td><td>0</td><td>28</td><td>5.4</td><td>-5.7</td><td>&quot;val&quot;</td><td>107.24</td><td>24.09</td><td>&quot;transformer&quot;</td><td>false</td><td>32</td><td>64</td><td>1</td><td>0.3</td><td>0.0001</td></tr><tr><td>2022091200</td><td>315</td><td>true</td><td>53464</td><td>&quot;Javonte Williams&quot;</td><td>54</td><td>&quot;out_of_bounds&quot;</td><td>55.95</td><td>53.17</td><td>19.05</td><td>23.23</td><td>36.9</td><td>29.94</td><td>1</td><td>3</td><td>12.36</td><td>-0.52</td><td>&quot;val&quot;</td><td>49.26</td><td>29.42</td><td>&quot;transformer&quot;</td><td>false</td><td>32</td><td>64</td><td>1</td><td>0.3</td><td>0.0001</td></tr></tbody></table></div>"
      ],
      "text/plain": [
       "shape: (3, 27)\n",
       "┌────────────┬────────┬──────────┬────────────┬───┬────────────┬────────────┬─────────┬────────────┐\n",
       "│ gameId     ┆ playId ┆ mirrored ┆ ballCarrie ┆ … ┆ hidden_dim ┆ num_layers ┆ dropout ┆ learning_r │\n",
       "│ ---        ┆ ---    ┆ ---      ┆ rNflId     ┆   ┆ ---        ┆ ---        ┆ ---     ┆ ate        │\n",
       "│ i64        ┆ i64    ┆ bool     ┆ ---        ┆   ┆ i32        ┆ i32        ┆ f64     ┆ ---        │\n",
       "│            ┆        ┆          ┆ i64        ┆   ┆            ┆            ┆         ┆ f64        │\n",
       "╞════════════╪════════╪══════════╪════════════╪═══╪════════════╪════════════╪═════════╪════════════╡\n",
       "│ 2022103000 ┆ 3868   ┆ true     ┆ 40129      ┆ … ┆ 64         ┆ 1          ┆ 0.3     ┆ 0.0001     │\n",
       "│ 2022091808 ┆ 3526   ┆ true     ┆ 54558      ┆ … ┆ 64         ┆ 1          ┆ 0.3     ┆ 0.0001     │\n",
       "│ 2022091200 ┆ 315    ┆ true     ┆ 53464      ┆ … ┆ 64         ┆ 1          ┆ 0.3     ┆ 0.0001     │\n",
       "└────────────┴────────┴──────────┴────────────┴───┴────────────┴────────────┴─────────┴────────────┘"
      ]
     },
     "metadata": {},
     "output_type": "display_data"
    },
    {
     "ename": "",
     "evalue": "",
     "output_type": "error",
     "traceback": [
      "\u001b[1;31mThe Kernel crashed while executing code in the current cell or a previous cell. \n",
      "\u001b[1;31mPlease review the code in the cell(s) to identify a possible cause of the failure. \n",
      "\u001b[1;31mClick <a href='https://aka.ms/vscodeJupyterKernelCrash'>here</a> for more info. \n",
      "\u001b[1;31mView Jupyter <a href='command:jupyter.viewOutput'>log</a> for further details."
     ]
    }
   ],
   "source": [
    "import numpy as np\n",
    "import polars as pl\n",
    "import torch\n",
    "from lightning.pytorch import Trainer\n",
    "from torch.utils.data import DataLoader\n",
    "\n",
    "from src.datasets import BDB2024_Dataset, load_datasets\n",
    "from src.models import LitModel\n",
    "\n",
    "\n",
    "\n",
    "zoo_df = predict_model_as_df(best_checkpoints[\"zoo\"])\n",
    "trfm_df = predict_model_as_df(best_checkpoints[\"transformer\"])\n",
    "\n",
    "display(zoo_df.sample(3))\n",
    "display(trfm_df.sample(3))"
   ]
  }
 ],
 "metadata": {
  "kernelspec": {
   "display_name": ".venv",
   "language": "python",
   "name": "python3"
  },
  "language_info": {
   "codemirror_mode": {
    "name": "ipython",
    "version": 3
   },
   "file_extension": ".py",
   "mimetype": "text/x-python",
   "name": "python",
   "nbconvert_exporter": "python",
   "pygments_lexer": "ipython3",
   "version": "3.12.3"
  }
 },
 "nbformat": 4,
 "nbformat_minor": 2
}
